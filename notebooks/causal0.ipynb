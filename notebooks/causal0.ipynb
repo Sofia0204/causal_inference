{
 "cells": [
  {
   "cell_type": "code",
   "execution_count": null,
   "metadata": {},
   "outputs": [],
   "source": [
    "# ab testing\n",
    "# natural experiments <- need to find a suitable dataset for this -- if i can't ill just create one\n",
    "# regression"
   ]
  },
  {
   "cell_type": "code",
   "execution_count": 1,
   "metadata": {},
   "outputs": [
    {
     "data": {
      "text/html": [
       "<div>\n",
       "<style scoped>\n",
       "    .dataframe tbody tr th:only-of-type {\n",
       "        vertical-align: middle;\n",
       "    }\n",
       "\n",
       "    .dataframe tbody tr th {\n",
       "        vertical-align: top;\n",
       "    }\n",
       "\n",
       "    .dataframe thead th {\n",
       "        text-align: right;\n",
       "    }\n",
       "</style>\n",
       "<table border=\"1\" class=\"dataframe\">\n",
       "  <thead>\n",
       "    <tr style=\"text-align: right;\">\n",
       "      <th></th>\n",
       "      <th>userid</th>\n",
       "      <th>version</th>\n",
       "      <th>sum_gamerounds</th>\n",
       "      <th>retention_1</th>\n",
       "      <th>retention_7</th>\n",
       "    </tr>\n",
       "  </thead>\n",
       "  <tbody>\n",
       "    <tr>\n",
       "      <th>0</th>\n",
       "      <td>116</td>\n",
       "      <td>gate_30</td>\n",
       "      <td>3</td>\n",
       "      <td>False</td>\n",
       "      <td>False</td>\n",
       "    </tr>\n",
       "    <tr>\n",
       "      <th>1</th>\n",
       "      <td>337</td>\n",
       "      <td>gate_30</td>\n",
       "      <td>38</td>\n",
       "      <td>True</td>\n",
       "      <td>False</td>\n",
       "    </tr>\n",
       "    <tr>\n",
       "      <th>2</th>\n",
       "      <td>377</td>\n",
       "      <td>gate_40</td>\n",
       "      <td>165</td>\n",
       "      <td>True</td>\n",
       "      <td>False</td>\n",
       "    </tr>\n",
       "    <tr>\n",
       "      <th>3</th>\n",
       "      <td>483</td>\n",
       "      <td>gate_40</td>\n",
       "      <td>1</td>\n",
       "      <td>False</td>\n",
       "      <td>False</td>\n",
       "    </tr>\n",
       "  </tbody>\n",
       "</table>\n",
       "</div>"
      ],
      "text/plain": [
       "   userid  version  sum_gamerounds  retention_1  retention_7\n",
       "0     116  gate_30               3        False        False\n",
       "1     337  gate_30              38         True        False\n",
       "2     377  gate_40             165         True        False\n",
       "3     483  gate_40               1        False        False"
      ]
     },
     "execution_count": 1,
     "metadata": {},
     "output_type": "execute_result"
    }
   ],
   "source": [
    "# mobile gaming dataset\n",
    "# quite large tens of thousands of observations\n",
    "# experimental set up\n",
    "# we have a mobile game (a game you play on your cell phone)\n",
    "# what happens to total number of games played from the moment the experiment was launched to 14 days after\n",
    "# and retention .. after 1 day and after 7 days.\n",
    "# treatment/experimental condition - \"the thing that's different between the two groups\"\n",
    "# group A sees the gate at level 30\n",
    "# group B sees the gate at level 40\n",
    "# prior to the experiment ALL players saw the gate at level 30\n",
    "\n",
    "import numpy as np\n",
    "import pandas as pd\n",
    "cats = pd.read_csv('cookie_cats.csv')\n",
    "cats.head(4)"
   ]
  },
  {
   "cell_type": "code",
   "execution_count": 3,
   "metadata": {},
   "outputs": [
    {
     "name": "stdout",
     "output_type": "stream",
     "text": [
      "(90189, 5)\n"
     ]
    },
    {
     "data": {
      "text/plain": [
       "version\n",
       "gate_40    45489\n",
       "gate_30    44700\n",
       "Name: count, dtype: int64"
      ]
     },
     "execution_count": 3,
     "metadata": {},
     "output_type": "execute_result"
    }
   ],
   "source": [
    "print(cats.shape)\n",
    "cats.version.value_counts()\n"
   ]
  },
  {
   "cell_type": "code",
   "execution_count": null,
   "metadata": {},
   "outputs": [],
   "source": [
    "# what makes experiments valid - why are they the best way to answer causal questions\n",
    "# we ensure that the treatment and control groups are comparable\n",
    "# we achieve this through random assignment of treatment and control"
   ]
  },
  {
   "cell_type": "markdown",
   "metadata": {},
   "source": [
    "`avg(y | gate_40) - avg(y | gate_30) = effect of the treatment + bias`\n",
    "\n",
    "effect of treatment = \"the difference between y under the treatment vs under no treatment...specifically for the people who did get the treatment\"\n",
    "\n",
    "bias = \"if no one got the treatment what would be the difference in y (games played) between the gate_40 people and the gate_30 people\"\n",
    "\n",
    "bias -> 0 under random assignment"
   ]
  },
  {
   "cell_type": "code",
   "execution_count": 4,
   "metadata": {},
   "outputs": [],
   "source": [
    "# sum_gamerounds (numeric) ~ versions (categorical (gate_30, gate_40))\n",
    "# anyone know the right hypothesis test\n",
    "# t-test\n",
    "\n",
    "# two-sample unpaired t test\n",
    "\n",
    "# two-sample - we have two groups, A and B, gate_30, gate_40\n",
    "# if you only have raw data from one group, and from the other group you only have the mean\n",
    "# that would be a one-sample t test\n",
    "# unpaired\n",
    "# if this was paired -> the same group would see gate_30 for 2 weeks, then they would see gate_40 for another 2 weeks.\n",
    "\n",
    "# null hypothesis\n",
    "# avg(y | gate_40) - avg(y | gate_30) = 0\n",
    "\n",
    "# alternative\n",
    "# avg(y | gate_40) - avg(y | gate_30) != 0\n",
    "\n",
    "# one-tailed vs two-tailed (two-tailed test)\n",
    "gate_30_gr = cats.loc[cats['version'] == 'gate_30','sum_gamerounds']\n",
    "gate_40_gr = cats.loc[cats['version'] == 'gate_40','sum_gamerounds']"
   ]
  },
  {
   "cell_type": "code",
   "execution_count": 5,
   "metadata": {},
   "outputs": [
    {
     "data": {
      "text/plain": [
       "TtestResult(statistic=0.8910426211362967, pvalue=0.37290868247405207, df=90187.0)"
      ]
     },
     "execution_count": 5,
     "metadata": {},
     "output_type": "execute_result"
    }
   ],
   "source": [
    "from scipy.stats import ttest_ind\n",
    "ttest_ind(gate_30_gr,gate_40_gr)"
   ]
  },
  {
   "cell_type": "markdown",
   "metadata": {},
   "source": [
    "interpretation:\n",
    "\n",
    "we fail to reject the null hypothesis\n",
    "\n",
    "pvalue\n",
    "\n",
    "if we reject the null hypothesis - that is considered a \"positive\" result. we have a finding.\n",
    "if we incorrectly reject the null hypothesis (i.e. we believe there's an effect but in reality there's not)\n",
    "we made a false positive = type 1 error\n",
    "\n",
    "pvalue = the probability of false positive\n",
    "\n",
    "pvalue = \"in a world where there is no real effect we expect to see the data we collected from our experiment, about pvalue percent of the time.\"\n",
    "\n",
    "\n",
    "we've done this experiment, and now we want to explain where the variability in the data comes from\n",
    "\n",
    "1. all the variability is due to the systematic effect of the treatment <- no way\n",
    "\n",
    "gate_30_gr = (120, 120, 120, 120, ....)\n",
    "gate_40_gr = (119, 119, 119, 119, ....)\n",
    "\n",
    "2. all the variability is due to randomness/bias (noise) <- when we do a hypothesis test, we're testing this\n",
    "3. the variability is some combination of systematic effect and noise\n"
   ]
  },
  {
   "cell_type": "code",
   "execution_count": 15,
   "metadata": {},
   "outputs": [
    {
     "data": {
      "text/plain": [
       "(3.164358912748191, 0.0015542499756143289)"
      ]
     },
     "execution_count": 15,
     "metadata": {},
     "output_type": "execute_result"
    }
   ],
   "source": [
    "#sum_gamerounds ~ 3+ versions\n",
    "\n",
    "# retention variable\n",
    "# 7 day retention (rate, category) ~ version (categorical (gate_30,40))\n",
    "\n",
    "# if you did an anova - it would not throw an error and it would not be totally meaningless\n",
    "\n",
    "# general point about stats tools/models - there are better and worse tools, and they live on a spectrum\n",
    "\n",
    "# what is the test for this kind of data\n",
    "# z test for proportions\n",
    "\n",
    "# what are the null/alt hypotheses\n",
    "# null: retention rate gate_30 = retention_rate gate_40\n",
    "# alt: ~null retention rate gate_30 != retention_rate gate_40\n",
    "\n",
    "from statsmodels.stats.proportion import proportions_ztest\n",
    "\n",
    "nobs = [cats.loc[cats['version'] == 'gate_30'].shape[0],cats.loc[cats['version'] == 'gate_40'].shape[0]]\n",
    "counts = list(cats.groupby('version')['retention_7'].sum())\n",
    "\n",
    "proportions_ztest(counts,nobs)"
   ]
  },
  {
   "cell_type": "code",
   "execution_count": 16,
   "metadata": {},
   "outputs": [
    {
     "data": {
      "text/plain": [
       "version\n",
       "gate_30    0.190201\n",
       "gate_40    0.182000\n",
       "Name: retention_7, dtype: float64"
      ]
     },
     "execution_count": 16,
     "metadata": {},
     "output_type": "execute_result"
    }
   ],
   "source": [
    "cats.groupby('version')['retention_7'].mean()"
   ]
  },
  {
   "cell_type": "code",
   "execution_count": 24,
   "metadata": {},
   "outputs": [
    {
     "data": {
      "text/html": [
       "<style>#sk-container-id-1 {color: black;}#sk-container-id-1 pre{padding: 0;}#sk-container-id-1 div.sk-toggleable {background-color: white;}#sk-container-id-1 label.sk-toggleable__label {cursor: pointer;display: block;width: 100%;margin-bottom: 0;padding: 0.3em;box-sizing: border-box;text-align: center;}#sk-container-id-1 label.sk-toggleable__label-arrow:before {content: \"▸\";float: left;margin-right: 0.25em;color: #696969;}#sk-container-id-1 label.sk-toggleable__label-arrow:hover:before {color: black;}#sk-container-id-1 div.sk-estimator:hover label.sk-toggleable__label-arrow:before {color: black;}#sk-container-id-1 div.sk-toggleable__content {max-height: 0;max-width: 0;overflow: hidden;text-align: left;background-color: #f0f8ff;}#sk-container-id-1 div.sk-toggleable__content pre {margin: 0.2em;color: black;border-radius: 0.25em;background-color: #f0f8ff;}#sk-container-id-1 input.sk-toggleable__control:checked~div.sk-toggleable__content {max-height: 200px;max-width: 100%;overflow: auto;}#sk-container-id-1 input.sk-toggleable__control:checked~label.sk-toggleable__label-arrow:before {content: \"▾\";}#sk-container-id-1 div.sk-estimator input.sk-toggleable__control:checked~label.sk-toggleable__label {background-color: #d4ebff;}#sk-container-id-1 div.sk-label input.sk-toggleable__control:checked~label.sk-toggleable__label {background-color: #d4ebff;}#sk-container-id-1 input.sk-hidden--visually {border: 0;clip: rect(1px 1px 1px 1px);clip: rect(1px, 1px, 1px, 1px);height: 1px;margin: -1px;overflow: hidden;padding: 0;position: absolute;width: 1px;}#sk-container-id-1 div.sk-estimator {font-family: monospace;background-color: #f0f8ff;border: 1px dotted black;border-radius: 0.25em;box-sizing: border-box;margin-bottom: 0.5em;}#sk-container-id-1 div.sk-estimator:hover {background-color: #d4ebff;}#sk-container-id-1 div.sk-parallel-item::after {content: \"\";width: 100%;border-bottom: 1px solid gray;flex-grow: 1;}#sk-container-id-1 div.sk-label:hover label.sk-toggleable__label {background-color: #d4ebff;}#sk-container-id-1 div.sk-serial::before {content: \"\";position: absolute;border-left: 1px solid gray;box-sizing: border-box;top: 0;bottom: 0;left: 50%;z-index: 0;}#sk-container-id-1 div.sk-serial {display: flex;flex-direction: column;align-items: center;background-color: white;padding-right: 0.2em;padding-left: 0.2em;position: relative;}#sk-container-id-1 div.sk-item {position: relative;z-index: 1;}#sk-container-id-1 div.sk-parallel {display: flex;align-items: stretch;justify-content: center;background-color: white;position: relative;}#sk-container-id-1 div.sk-item::before, #sk-container-id-1 div.sk-parallel-item::before {content: \"\";position: absolute;border-left: 1px solid gray;box-sizing: border-box;top: 0;bottom: 0;left: 50%;z-index: -1;}#sk-container-id-1 div.sk-parallel-item {display: flex;flex-direction: column;z-index: 1;position: relative;background-color: white;}#sk-container-id-1 div.sk-parallel-item:first-child::after {align-self: flex-end;width: 50%;}#sk-container-id-1 div.sk-parallel-item:last-child::after {align-self: flex-start;width: 50%;}#sk-container-id-1 div.sk-parallel-item:only-child::after {width: 0;}#sk-container-id-1 div.sk-dashed-wrapped {border: 1px dashed gray;margin: 0 0.4em 0.5em 0.4em;box-sizing: border-box;padding-bottom: 0.4em;background-color: white;}#sk-container-id-1 div.sk-label label {font-family: monospace;font-weight: bold;display: inline-block;line-height: 1.2em;}#sk-container-id-1 div.sk-label-container {text-align: center;}#sk-container-id-1 div.sk-container {/* jupyter's `normalize.less` sets `[hidden] { display: none; }` but bootstrap.min.css set `[hidden] { display: none !important; }` so we also need the `!important` here to be able to override the default hidden behavior on the sphinx rendered scikit-learn.org. See: https://github.com/scikit-learn/scikit-learn/issues/21755 */display: inline-block !important;position: relative;}#sk-container-id-1 div.sk-text-repr-fallback {display: none;}</style><div id=\"sk-container-id-1\" class=\"sk-top-container\"><div class=\"sk-text-repr-fallback\"><pre>LinearRegression()</pre><b>In a Jupyter environment, please rerun this cell to show the HTML representation or trust the notebook. <br />On GitHub, the HTML representation is unable to render, please try loading this page with nbviewer.org.</b></div><div class=\"sk-container\" hidden><div class=\"sk-item\"><div class=\"sk-estimator sk-toggleable\"><input class=\"sk-toggleable__control sk-hidden--visually\" id=\"sk-estimator-id-1\" type=\"checkbox\" checked><label for=\"sk-estimator-id-1\" class=\"sk-toggleable__label sk-toggleable__label-arrow\">LinearRegression</label><div class=\"sk-toggleable__content\"><pre>LinearRegression()</pre></div></div></div></div></div>"
      ],
      "text/plain": [
       "LinearRegression()"
      ]
     },
     "execution_count": 24,
     "metadata": {},
     "output_type": "execute_result"
    }
   ],
   "source": [
    "# general point about stats tools/models - there are better and worse tools, and they live on a spectrum\n",
    "# sum_gamerounds (numeric) ~ versions (categorical (gate_30, gate_40))\n",
    "# t-test - this is great, it was designed for this specifically\n",
    "\n",
    "# sum_gamerounds = (10,3,100,...)\n",
    "# version = (0,0,1,...)\n",
    "\n",
    "# sum_gamerounds = f(version)\n",
    "# f: linear regression\n",
    "\n",
    "# sum_gamerounds = f(version) = intercept + beta_version*version{1,0}\n",
    "\n",
    "X = np.where(cats['version'] == 'gate_30',0,1).T.reshape(-1,1)\n",
    "y = cats['sum_gamerounds']\n",
    "\n",
    "from sklearn.linear_model import LinearRegression\n",
    "\n",
    "m = LinearRegression()\n",
    "m.fit(X,y)\n"
   ]
  },
  {
   "cell_type": "code",
   "execution_count": 26,
   "metadata": {},
   "outputs": [],
   "source": [
    "predictions = m.intercept_ + m.coef_*X"
   ]
  },
  {
   "cell_type": "code",
   "execution_count": 29,
   "metadata": {},
   "outputs": [
    {
     "data": {
      "text/plain": [
       "array([-1.15748845])"
      ]
     },
     "execution_count": 29,
     "metadata": {},
     "output_type": "execute_result"
    }
   ],
   "source": [
    "m.coef_"
   ]
  },
  {
   "cell_type": "code",
   "execution_count": 28,
   "metadata": {},
   "outputs": [
    {
     "data": {
      "text/plain": [
       "8.803374801025221e-06"
      ]
     },
     "execution_count": 28,
     "metadata": {},
     "output_type": "execute_result"
    }
   ],
   "source": [
    "m.score(X,y) # r-squared is bad close to zero"
   ]
  },
  {
   "cell_type": "code",
   "execution_count": 30,
   "metadata": {},
   "outputs": [
    {
     "data": {
      "image/png": "[encoded data removed]",
      "text/plain": [
       "<Figure size 640x480 with 1 Axes>"
      ]
     },
     "metadata": {},
     "output_type": "display_data"
    }
   ],
   "source": [
    "import matplotlib.pyplot as plt\n",
    "\n",
    "plt.figure()\n",
    "plt.scatter(cats['sum_gamerounds'],predictions,c=np.where(cats['version'] == 'gate_30',0,1))\n",
    "plt.show()"
   ]
  },
  {
   "cell_type": "markdown",
   "metadata": {},
   "source": []
  }
 ],
 "metadata": {
  "kernelspec": {
   "display_name": "basic",
   "language": "python",
   "name": "python3"
  },
  "language_info": {
   "codemirror_mode": {
    "name": "ipython",
    "version": 3
   },
   "file_extension": ".py",
   "mimetype": "text/x-python",
   "name": "python",
   "nbconvert_exporter": "python",
   "pygments_lexer": "ipython3",
   "version": "3.11.7"
  },
  "orig_nbformat": 4
 },
 "nbformat": 4,
 "nbformat_minor": 2
}
