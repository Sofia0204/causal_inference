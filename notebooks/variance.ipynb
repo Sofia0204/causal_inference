{
 "cells": [
  {
   "cell_type": "markdown",
   "metadata": {},
   "source": [
    "## notes about standard errors, confidence intervals and hypothesis tests\n",
    "\n",
    "recall the setup of our AB test:\n",
    "\n",
    "we have a treatment/intervention $ X \\in \\{0,1\\}$ and we have an outcome variable $Y$\n",
    "\n",
    "it's then very easy to calculate the average of $Y$ for the treatment and control groups and take the difference:\n",
    "\n",
    "`avg(Y | X = 1) - avg(Y | X = 0)`\n",
    "\n",
    "this is a measure of association between $X$ and $Y$. If the difference is large and positive -- that is very suggestive and we will WANT to believe that the treatment is the reason why. But when we decompose this simple difference as so:\n",
    "\n",
    "`avg(Y | X = 1) - avg(Y | X = 0) = avg treatment effect (on the treated) + bias`\n",
    "\n",
    "we realize we need to be mindful that our results are not due to a systematic difference between treatment and control groups that is unrelated to the treatment.\n",
    "\n",
    "as we saw, the nice thing about AB tests is that they are designed to eliminate bias through random assignment of $X$\n",
    "\n",
    "if bias is zero in an AB test, then `avg(Y | X = 1) - avg(Y | X = 0)` is the treatment effect. \n",
    "\n",
    "this brings us to a **question**:\n",
    "\n",
    "if `avg(Y | X = 1) - avg(Y | X = 0)` is the unbiased treatment effect then why did we bother to do a hypothesis test?"
   ]
  },
  {
   "cell_type": "markdown",
   "metadata": {},
   "source": [
    "## bias vs noise\n",
    "\n",
    "randomization helps remove bias, but findings can still be misleading due to pure chance, which is called noise.\n",
    "\n",
    "**bias**: assigning people to treatment/control based on their lifestyle. minors with lots of free time go to the treatment group, and busy working adults to the control group. the treatment group plays more — but they were always going to play more!\n",
    "\n",
    "**noise**: andy loves cookie cats and schedules gaming sessions for thursdays, but gets sick and can’t play. beatrice rarely plays but starts dating someone who loves cookie cats and plays more because of it.\n",
    "\n",
    "imagine this randomness for all ~90k participants in the AB test. this is noise.\n",
    "\n",
    "putting this in terms of our favorite equation:\n",
    "\n",
    "`avg(Y | X = 1) - avg(Y | X = 0) = avg treatment effect on the treated + bias`\n",
    "\n",
    "`avg(Y | X = 1) - avg(Y | X = 0) = real avg treatment effect on the treated + noise + bias`\n",
    "\n",
    "the first equation shows the observed difference includes bias. the second equation shows the observed difference includes the real treatment effect, noise, and bias.\n"
   ]
  },
  {
   "cell_type": "markdown",
   "metadata": {},
   "source": [
    "## essential justification for hypothesis testing\n",
    "\n",
    "we talked about this before, recall:\n",
    "\n",
    "assume we've used random assignment to push bias down to ~0. and now we want to explain where the variability in the data comes from -- there's really only three options:\n",
    "\n",
    "**option 1**: all the variability is due to real, systematic effect of the treatment\n",
    "\n",
    "**option 2**: all the variability is due to randomness (noise) \n",
    "\n",
    "**option 3:** the variability is some combination of real effect and noise\n",
    "\n",
    "it is extremely unlikely **option 1** is true\n",
    "\n",
    "~~all the variability is due to real, systematic effect of the treatment~~\n",
    "\n",
    "> so we are left to decide which we believe more: **option 2** or **option 3**\n",
    "\n",
    "when we use a hypothesis test, what we are \"testing\" is how much we should believe **option 2**\n",
    "\n",
    "a very small p-value makes us disinclined to believe it, and more inclined to favor **option 3**"
   ]
  },
  {
   "cell_type": "code",
   "execution_count": null,
   "metadata": {},
   "outputs": [],
   "source": []
  },
  {
   "cell_type": "code",
   "execution_count": null,
   "metadata": {},
   "outputs": [],
   "source": []
  },
  {
   "cell_type": "code",
   "execution_count": null,
   "metadata": {},
   "outputs": [],
   "source": []
  }
 ],
 "metadata": {
  "language_info": {
   "name": "python"
  },
  "orig_nbformat": 4
 },
 "nbformat": 4,
 "nbformat_minor": 2
}
