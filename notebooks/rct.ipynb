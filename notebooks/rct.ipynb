{
 "cells": [
  {
   "cell_type": "markdown",
   "metadata": {},
   "source": [
    "### the randomized experiment (RCT/ AB test)\n",
    "\n",
    "reminder:\n",
    "\n",
    "correlation (more generally, *association*) is not causation\n",
    "\n",
    "...unless...maybe.. it is.\n",
    "\n",
    "we have a treatment/intervention $ X \\in \\{0,1\\}$\n",
    "\n",
    "and we have an outcome variable $ Y $\n",
    "\n",
    "`avg(Y | X = 1) - avg(Y | X = 0) = avg treatment effect (on the treated) + bias`\n",
    "\n",
    "for now, let's give hand-wavy definitions:\n",
    "\n",
    "treatment effect = \"avg difference in $Y$ when the treatment is given vs when it is not given\"\n",
    "\n",
    "bias = \"avg difference in $Y$ if noone got the treatment\"\n",
    "\n",
    "the nice thing about AB tests, is that they are designed to eliminate bias\n",
    "\n",
    "how?\n",
    "\n",
    "bias can be eliminated through random assignment of $X$.\n"
   ]
  },
  {
   "cell_type": "markdown",
   "metadata": {},
   "source": [
    "**data source**:\n",
    "\n",
    "[cookie cats](https://www.kaggle.com/datasets/yufengsui/mobile-games-ab-testing)"
   ]
  },
  {
   "cell_type": "code",
   "execution_count": 90,
   "metadata": {},
   "outputs": [
    {
     "data": {
      "text/html": [
       "<div>\n",
       "<style scoped>\n",
       "    .dataframe tbody tr th:only-of-type {\n",
       "        vertical-align: middle;\n",
       "    }\n",
       "\n",
       "    .dataframe tbody tr th {\n",
       "        vertical-align: top;\n",
       "    }\n",
       "\n",
       "    .dataframe thead th {\n",
       "        text-align: right;\n",
       "    }\n",
       "</style>\n",
       "<table border=\"1\" class=\"dataframe\">\n",
       "  <thead>\n",
       "    <tr style=\"text-align: right;\">\n",
       "      <th></th>\n",
       "      <th>userid</th>\n",
       "      <th>version</th>\n",
       "      <th>sum_gamerounds</th>\n",
       "      <th>retention_1</th>\n",
       "      <th>retention_7</th>\n",
       "    </tr>\n",
       "  </thead>\n",
       "  <tbody>\n",
       "    <tr>\n",
       "      <th>0</th>\n",
       "      <td>116</td>\n",
       "      <td>gate_30</td>\n",
       "      <td>3</td>\n",
       "      <td>False</td>\n",
       "      <td>False</td>\n",
       "    </tr>\n",
       "    <tr>\n",
       "      <th>1</th>\n",
       "      <td>337</td>\n",
       "      <td>gate_30</td>\n",
       "      <td>38</td>\n",
       "      <td>True</td>\n",
       "      <td>False</td>\n",
       "    </tr>\n",
       "    <tr>\n",
       "      <th>2</th>\n",
       "      <td>377</td>\n",
       "      <td>gate_40</td>\n",
       "      <td>165</td>\n",
       "      <td>True</td>\n",
       "      <td>False</td>\n",
       "    </tr>\n",
       "  </tbody>\n",
       "</table>\n",
       "</div>"
      ],
      "text/plain": [
       "   userid  version  sum_gamerounds  retention_1  retention_7\n",
       "0     116  gate_30               3        False        False\n",
       "1     337  gate_30              38         True        False\n",
       "2     377  gate_40             165         True        False"
      ]
     },
     "execution_count": 90,
     "metadata": {},
     "output_type": "execute_result"
    }
   ],
   "source": [
    "import pandas as pd\n",
    "#cats = pd.read_csv('../cookie_cats.csv')\n",
    "cats = pd.read_csv('/Users/alenadocherty/Downloads/Projects/Cookie_cats/cookie_cats.csv')\n",
    "\n",
    "# mobile gaming dataset\n",
    "# quite large: tens of thousands of observations\n",
    "\n",
    "# we have to make up a story about the experimental set up:\n",
    "\n",
    "# we have a mobile game (a game you play on your cell phone)\n",
    "# intervention/experimental condition/X - \"the thing that's different between the two groups\"\n",
    "# group A sees the gate at level 30\n",
    "# group B sees the gate at level 40\n",
    "# we measure 3 outcomes as a function of the intervention:\n",
    "# total number of games played from the moment the experiment was launched to 14 days after.\n",
    "# and retention .. after 1 day and after 7 days.\n",
    "\n",
    "# let's assume prior to the experiment ALL players saw the gate at level 30\n",
    "# that would mean the experimental condition is \"player sees the gate at level 40\"\n",
    "\n",
    "cats.head(3)"
   ]
  },
  {
   "cell_type": "code",
   "execution_count": 2,
   "metadata": {},
   "outputs": [
    {
     "data": {
      "text/plain": [
       "<Axes: title={'center': 'percentage of players who return after 7 days'}, xlabel='version', ylabel='%'>"
      ]
     },
     "execution_count": 2,
     "metadata": {},
     "output_type": "execute_result"
    },
    {
     "data": {
      "image/png": "[encoded data removed]",
      "text/plain": [
       "<Figure size 640x480 with 1 Axes>"
      ]
     },
     "metadata": {},
     "output_type": "display_data"
    }
   ],
   "source": [
    "import matplotlib.pyplot as plt\n",
    "\n",
    "retention_7_barplot_data = cats.groupby('version')['retention_7'].mean()*100\n",
    "\n",
    "retention_7_barplot_data.plot.bar(title = \"percentage of players who return after 7 days\",rot = 0,ylabel = \"%\")"
   ]
  },
  {
   "cell_type": "markdown",
   "metadata": {},
   "source": [
    "quick review\n",
    "\n",
    "pvalue what does it mean?\n",
    "\n",
    "probability of type 1 error, i.e. false positive rate, i.e. probability of rejecting the null hypothesis when you should NOT have\n",
    "\n",
    "pvalue = \"in a world where there's no difference between group A and B, we should expect to see data that looks like this pvalue percentage of the time\"\n",
    "\n",
    "if you do 1,000,000 hypothesis tests and get 1,000,000 pvalues of .0499999 (which leads you to reject the null every time) you will have 50,000 false positives. "
   ]
  },
  {
   "cell_type": "code",
   "execution_count": 3,
   "metadata": {},
   "outputs": [
    {
     "data": {
      "text/plain": [
       "Ttest_indResult(statistic=0.8910426211362967, pvalue=0.37290868247405207)"
      ]
     },
     "execution_count": 3,
     "metadata": {},
     "output_type": "execute_result"
    }
   ],
   "source": [
    "# randomization - we have to take it for granted here.\n",
    "# what data would we need to do the random assignment ourselves\n",
    "# we want to make sure that \"on average\" the players in group A and B \n",
    "# had the same level of engagement before the experiment\n",
    "\n",
    "# what hypothesis test should we use\n",
    "# t-test, specifically two-sample unpaired independent t-test\n",
    "\n",
    "# null hypothesis: mean(sum of game rounds for group A) - mean(sum of game rounds for group B) = 0\n",
    "# alternative hypothesis: ~null hypothesis \n",
    "# mean(sum of game rounds for group A) - mean(sum of game rounds for group B) != 0\n",
    "\n",
    "# significance threshold\n",
    "# most people arbitrarily use .05\n",
    "# if p(false positive) < .05 we will decide to kind of believe the result\n",
    "\n",
    "gate_30 = cats.loc[cats['version'] == \"gate_30\",\"sum_gamerounds\"] # group A\n",
    "gate_40 = cats.loc[cats['version'] == \"gate_40\",\"sum_gamerounds\"] # group B\n",
    "\n",
    "from scipy.stats import ttest_ind\n",
    "ttest_ind(gate_30,gate_40)"
   ]
  },
  {
   "cell_type": "markdown",
   "metadata": {},
   "source": [
    "interpretation:\n",
    "\n",
    "we fail to reject the null hypothesis\n",
    "\n",
    "let's check our intuition about hypothesis testing\n",
    "\n",
    "we've done this experiment...and now we want to explain where the variability in the data comes from, and there's really only three options:\n",
    "\n",
    "**option 1**: all the variability is due to the systematic effect of the treatment\n",
    "\n",
    "`gate_30_gr = (120, 120, 120, 120, ....)`\n",
    "\n",
    "`gate_40_gr = (119, 119, 119, 119, ....)`\n",
    "\n",
    "as you can see, this is highly unlikely to be the case.\n",
    "\n",
    "**option 2**: all the variability is due to randomness (noise) \n",
    "\n",
    "**^^^ when we do a hypothesis test, we're testing this ^^^**\n",
    "\n",
    "**option 3:** the variability is some combination of systematic effect and noise\n",
    "\n",
    "**^^^ when we reject the null, we are choosing to believe this ^^^**\n"
   ]
  },
  {
   "cell_type": "code",
   "execution_count": 4,
   "metadata": {},
   "outputs": [
    {
     "name": "stdout",
     "output_type": "stream",
     "text": [
      "0.002\n"
     ]
    }
   ],
   "source": [
    "# next\n",
    "# 7 day retention (rate, category) ~ version (categorical (gate_30,40))\n",
    "# proportions z test\n",
    "import numpy as np\n",
    "from statsmodels.stats.proportion import proportions_ztest\n",
    "# prep the data\n",
    "retention_gate_30 = cats.loc[cats['version'] == \"gate_30\",\"retention_7\"] # group A\n",
    "retention_gate_40 = cats.loc[cats['version'] == \"gate_40\",\"retention_7\"] # group B\n",
    "count = np.array([retention_gate_30.sum(),retention_gate_40.sum()])\n",
    "nobs = np.array([retention_gate_30.shape[0],retention_gate_40.shape[0]])\n",
    "# run the test\n",
    "# wait a sec\n",
    "# what are the null/alt hypotheses\n",
    "# null: retention rate gate_30 = retention_rate gate_40\n",
    "# alt:  retention rate gate_30 != retention_rate gate_40 (or just: ~null)\n",
    "\n",
    "_, pval = proportions_ztest(count, nobs)\n",
    "# print the result\n",
    "print(f'{round(pval,3)}')\n"
   ]
  },
  {
   "cell_type": "code",
   "execution_count": 29,
   "metadata": {},
   "outputs": [
    {
     "data": {
      "text/html": [
       "<div>\n",
       "<style scoped>\n",
       "    .dataframe tbody tr th:only-of-type {\n",
       "        vertical-align: middle;\n",
       "    }\n",
       "\n",
       "    .dataframe tbody tr th {\n",
       "        vertical-align: top;\n",
       "    }\n",
       "\n",
       "    .dataframe thead th {\n",
       "        text-align: right;\n",
       "    }\n",
       "</style>\n",
       "<table border=\"1\" class=\"dataframe\">\n",
       "  <thead>\n",
       "    <tr style=\"text-align: right;\">\n",
       "      <th></th>\n",
       "      <th>sum</th>\n",
       "      <th>mean</th>\n",
       "    </tr>\n",
       "    <tr>\n",
       "      <th>version</th>\n",
       "      <th></th>\n",
       "      <th></th>\n",
       "    </tr>\n",
       "  </thead>\n",
       "  <tbody>\n",
       "    <tr>\n",
       "      <th>gate_30</th>\n",
       "      <td>8502</td>\n",
       "      <td>0.190201</td>\n",
       "    </tr>\n",
       "    <tr>\n",
       "      <th>gate_40</th>\n",
       "      <td>8279</td>\n",
       "      <td>0.182000</td>\n",
       "    </tr>\n",
       "  </tbody>\n",
       "</table>\n",
       "</div>"
      ],
      "text/plain": [
       "          sum      mean\n",
       "version                \n",
       "gate_30  8502  0.190201\n",
       "gate_40  8279  0.182000"
      ]
     },
     "execution_count": 29,
     "metadata": {},
     "output_type": "execute_result"
    }
   ],
   "source": [
    "# the test only hints at the strength and direction of the effect\n",
    "# we need to take a closer look\n",
    "cats.groupby('version')['retention_7'].agg(['sum','mean'])"
   ]
  },
  {
   "cell_type": "markdown",
   "metadata": {},
   "source": [
    "there's usually more than one way to answer the same question\n",
    "\n",
    "statistical methods are like little robots - some are designed for a single purpose and others have more flexible capabilities\n",
    "\n",
    "for example, we used a t-test to evaluate sum_gamerounds (numeric) ~ version (categorical)\n",
    "\n",
    "are there other tools that we could apply. what about a regression?\n",
    "\n",
    "`avg(sum_gamerounds | version) = beta0 + beta_version*version{1,0}`"
   ]
  },
  {
   "cell_type": "markdown",
   "metadata": {},
   "source": [
    "## ISSUE #6 . Calculate statistical power for t-test using Cohen's d\n"
   ]
  },
  {
   "cell_type": "markdown",
   "metadata": {},
   "source": [
    "### Non-modularised code - commented out"
   ]
  },
  {
   "cell_type": "code",
   "execution_count": 111,
   "metadata": {},
   "outputs": [
    {
     "name": "stdout",
     "output_type": "stream",
     "text": [
      "Number of observations: [44700 45489]\n",
      "Mean: [0.19020134 0.18200004]\n",
      "Standard deviation: [0.39246431 0.38584881]\n",
      "Pooled standard deviation: 0.389\n",
      "Cohen's d: 0.021\n",
      "Power for t-test: 0.994\n"
     ]
    }
   ],
   "source": [
    "'''\n",
    "import statsmodels.stats.power as smp\n",
    "import numpy as np\n",
    "\n",
    "nobs = np.array([retention_gate_30.shape[0],retention_gate_40.shape[0]])\n",
    "\n",
    "# Means of the group A and group B\n",
    "mean = np.array([retention_gate_30.mean(), retention_gate_40.mean()])\n",
    "\n",
    "# Standard deviation of each group\n",
    "std = np.array([retention_gate_30.std(), retention_gate_40.std()])\n",
    "\n",
    "# Pooled standard deviation from pooled standard variance pooled_var\n",
    "pooled_var = ((nobs[0] - 1) * std[0]**2 + (nobs[1] - 1) * std[1]**2) / (nobs[0] + nobs[1] - 2)\n",
    "pooled_std = np.sqrt(pooled_var)\n",
    "\n",
    "# Cohen's d\n",
    "d = (mean[0]-mean[1])/pooled_std\n",
    "\n",
    "# Power calculation for t-test\n",
    "effect_size = d\n",
    "alpha = 0.05\n",
    "\n",
    "# nobs = nobs[0] used as being the smallest of two nobs[0] and nobs[1]\n",
    "power_ttest = smp.ttest_power(effect_size = d, nobs = nobs[0], alpha = alpha,  alternative='two-sided')\n",
    "\n",
    "print('Number of observations:', nobs)\n",
    "print('Mean:', mean)\n",
    "print('Standard deviation:', std)\n",
    "print('Pooled standard deviation:', round(pooled_std, 3))\n",
    "print(\"Cohen's d:\",  round(d, 3))\n",
    "print('Power for t-test:', round(power_ttest, 3))\n",
    "\n",
    "'''"
   ]
  },
  {
   "cell_type": "markdown",
   "metadata": {},
   "source": [
    "## Modularised code"
   ]
  },
  {
   "cell_type": "code",
   "execution_count": 132,
   "metadata": {},
   "outputs": [
    {
     "name": "stdout",
     "output_type": "stream",
     "text": [
      "Number of observations: [44700 45489]\n",
      "Mean: [0.19020134 0.18200004]\n",
      "Standard deviation: [0.39246431 0.38584881]\n",
      "Pooled standard deviation: 0.389\n",
      "Cohen's d: 0.021\n",
      "Power for t_test: 0.994\n"
     ]
    }
   ],
   "source": [
    "import pandas as pd\n",
    "import numpy as np\n",
    "import statsmodels.stats.power as smp\n",
    "\n",
    "# calculating pooled standard deviation\n",
    "def calculate_pooled_std(nobs, std):   \n",
    "    pooled_var = ((nobs[0] - 1)*std[0]**2 + (nobs[1]-1)*std[1]**2)/(nobs[0] + nobs[1] -2)\n",
    "    pooled_std = np.sqrt(pooled_var)\n",
    "    return pooled_std\n",
    "\n",
    "# calculating Cohen's d to quantify the difference between means of two groups\n",
    "def calculate_cohen_d(mean, pooled_std):\n",
    "    d = (mean[0] - mean[1])/pooled_std\n",
    "    return d\n",
    "    \n",
    "# calculating the power of t-test \n",
    "def calculate_power_ttest(mean, std, nobs):\n",
    "    # Defaults\n",
    "    alpha = 0.05\n",
    "    alternative = 'two-sided'\n",
    "   \n",
    "    pooled_std = calculate_pooled_std(nobs, std)\n",
    "    d = calculate_cohen_d(mean, pooled_std)\n",
    "    power_ttest = smp.ttest_power(effect_size=d, nobs=nobs[0], alpha=alpha, alternative=alternative)\n",
    "    return power_ttest\n",
    "\n",
    "#power_ttest = calculate_power_ttest(mean, std, nobs)\n",
    "\n",
    "\n",
    "def main():\n",
    "    cats = pd.read_csv('../cookie_cats.csv')\n",
    "    #cats = pd.read_csv('/Users/alenadocherty/Downloads/Projects/Cookie_cats/cookie_cats.csv')\n",
    "\n",
    "    # preparing the data\n",
    "    retention_gate_30 = cats.loc[cats['version'] == 'gate_30', 'retention_7']\n",
    "    retention_gate_40 = cats.loc[cats['version'] == 'gate_40', 'retention_7']\n",
    "    nobs = np.array([retention_gate_30.shape[0],retention_gate_40.shape[0]])\n",
    "    mean = np.array([retention_gate_30.mean(), retention_gate_40.mean()])\n",
    "    std = np.array([retention_gate_30.std(), retention_gate_40.std()])\n",
    "\n",
    "    # calculating power for t-test\n",
    "    power_ttest = calculate_power_ttest(mean, std, nobs)\n",
    "    \n",
    "    \n",
    "    print('Number of observations:', nobs)\n",
    "    print('Mean:', mean)\n",
    "    print('Standard deviation:', std)\n",
    "    print('Pooled standard deviation:', round(pooled_std, 3))\n",
    "    print(\"Cohen's d:\", round(d, 3))\n",
    "    print('Power for t_test:', round(power_ttest, 3)) \n",
    "      \n",
    "# main entry point: calls main function  dirctly\n",
    "if __name__ == '__main__':\n",
    "    main()"
   ]
  },
  {
   "cell_type": "code",
   "execution_count": null,
   "metadata": {},
   "outputs": [],
   "source": []
  }
 ],
 "metadata": {
  "kernelspec": {
   "display_name": "basic",
   "language": "python",
   "name": "python3"
  },
  "language_info": {
   "codemirror_mode": {
    "name": "ipython",
    "version": 3
   },
   "file_extension": ".py",
   "mimetype": "text/x-python",
   "name": "python",
   "nbconvert_exporter": "python",
   "pygments_lexer": "ipython3",
   "version": "3.11.4"
  },
  "orig_nbformat": 4
 },
 "nbformat": 4,
 "nbformat_minor": 2
}
